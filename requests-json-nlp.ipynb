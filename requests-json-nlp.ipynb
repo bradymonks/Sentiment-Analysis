{
 "cells": [
  {
   "cell_type": "markdown",
   "metadata": {},
   "source": [
    "# Web Mining and Applied NLP (44-620)\n",
    "\n",
    "## Requests, JSON, and NLP\n",
    "\n",
    "### Student Name: Brady Monks\n",
    "\n",
    "Perform the tasks described in the Markdown cells below.  When you have completed the assignment make sure your code cells have all been run (and have output beneath them) and ensure you have committed and pushed ALL of your changes to your assignment repository.\n",
    "\n",
    "Make sure you have [installed spaCy and its pipeline](https://spacy.io/usage#quickstart) and [spaCyTextBlob](https://spacy.io/universe/project/spacy-textblob)\n",
    "\n",
    "Every question that requires you to write code will have a code cell underneath it; you may either write your entire solution in that cell or write it in a python file (`.py`), then import and run the appropriate code to answer the question.\n",
    "\n",
    "This assignment requires that you write additional files (either JSON or pickle files); make sure to submit those files in your repository as well."
   ]
  },
  {
   "cell_type": "markdown",
   "metadata": {},
   "source": [
    "1. The following code accesses the [lyrics.ovh](https://lyricsovh.docs.apiary.io/#reference/0/lyrics-of-a-song/search) public api, searches for the lyrics of a song, and stores it in a dictionary object.  Write the resulting json to a file (either a JSON file or a pickle file; you choose). You will read in the contents of this file for future questions so we do not need to frequently access the API."
   ]
  },
  {
   "cell_type": "code",
   "execution_count": null,
   "metadata": {},
   "outputs": [],
   "source": [
    "import lyricsgenius\n",
    "genius = lyricsgenius.Genius('CerL0W-8wM9muer91zRXf8fTMIT1gS6bgMLCTyGCaj7rf3c8nqXCW9200xU6Ozqh')"
   ]
  },
  {
   "cell_type": "code",
   "execution_count": 2,
   "metadata": {},
   "outputs": [
    {
     "name": "stdout",
     "output_type": "stream",
     "text": [
      "Searching for songs by Bazzi...\n",
      "\n",
      "Song 1: \"Mine\"\n",
      "\n",
      "Reached user-specified song limit (1).\n",
      "Done. Found 1 songs.\n",
      "[Song(id, artist, ...)]\n"
     ]
    }
   ],
   "source": [
    "artist = genius.search_artist(\"Bazzi\", max_songs = 1,include_features=True)\n",
    "print(artist.songs)"
   ]
  },
  {
   "cell_type": "code",
   "execution_count": 3,
   "metadata": {},
   "outputs": [
    {
     "name": "stdout",
     "output_type": "stream",
     "text": [
      "Searching for \"IFLY\" by Bazzi...\n",
      "Done.\n",
      "I.F.L.Y. Lyrics[Intro]\n",
      "This my baby\n",
      "This my\n",
      "Look\n",
      "\n",
      "[Verse 1]\n",
      "Touchin' you slowly, love how you hold me\n",
      "I was a player, that was the old me\n",
      "I sent a prayer for something holy\n",
      "Got naked and show me\n",
      "Girl, summer's been lonely, yeah\n",
      "At first, I was hesitant\n",
      "(Spooky) Like a skeleton\n",
      "You 20, but intelligent\n",
      "Now all them other bitches so irrelevant, ah-ah, yeah\n",
      "Tan lines and some memories (Woo)\n",
      "Guess summer got the best of me (Woo)\n",
      "Chef B with the recipe, yeah\n",
      "With you, it's a better me\n",
      "[Chorus]\n",
      "I guess what I'm sayin', I guess what I'm sayin'\n",
      "I guess what I'm sayin' is, I\n",
      "I fuckin' love you\n",
      "I guess what I'm sayin', I guess what I'm sayin'\n",
      "I guess what I'm sayin' is, I\n",
      "I fuckin' love you (Ah, yeah)\n",
      "Love you through the better days\n",
      "Love you through the rainy ones\n",
      "Champion, you're number one, yeah, that's true\n",
      "I guess what I'm sayin', I guess what I'm sayin'\n",
      "I guess what I'm sayin' is, I\n",
      "I fuckin' love you (Ah, yeah, ah)\n",
      "\n",
      "[Verse 2]\n",
      "Yes, I do, chillin' top floor with a penthouse view\n",
      "But that don't mean a thing unless I'm next to you\n",
      "'Cause money just money 'less I spend it on you\n",
      "Next to me, when I'm with you, you bring out the best of me\n",
      "God made you a twin, but you the one I see\n",
      "But shoutout to Elisha, that's my baby, yeah, yeah, yeah\n",
      "But if I wrote you a love song, would you sing it?\n",
      "If I needed bail out of jail, would you bring it?\n",
      "If I win, then we're up, if we fail, then we wing it\n",
      "\n",
      "[Chorus]\n",
      "I guess what I'm sayin', I guess what I'm sayin'\n",
      "I guess what I'm sayin' is, I\n",
      "I fuckin' love you (I do)\n",
      "I guess what I'm sayin', I guess what I'm sayin'\n",
      "I guess what I'm sayin' is, I\n",
      "I fuckin' love you (I do, I do, I do, ah)\n",
      "Love you through the better days (Yeah, yeah, yeah)\n",
      "Love you through the rainy ones\n",
      "Champion, you're number one, yeah, that's true\n",
      "But I guess what I'm sayin', I guess what I'm sayin'\n",
      "I guess what I'm sayin' is, I\n",
      "I fuckin' love you (Ah, yeah)\n",
      "You might also like[Outro]\n",
      "That's my baby, yeah\n",
      "My baby, uh, uh\n",
      "My baby, yeah\n",
      "That's my baby, yeah\n",
      "My baby, uh, uh\n",
      "My baby60Embed\n"
     ]
    }
   ],
   "source": [
    "song = artist.song(\"IFLY\")\n",
    "print(song.lyrics)"
   ]
  },
  {
   "cell_type": "code",
   "execution_count": 4,
   "metadata": {},
   "outputs": [
    {
     "name": "stdin",
     "output_type": "stream",
     "text": [
      "lyrics_bazzi_i.f.l.y..json already exists. Overwrite?\n",
      "(y/n):  y\n"
     ]
    },
    {
     "name": "stdout",
     "output_type": "stream",
     "text": [
      "Wrote lyrics_bazzi_i.f.l.y..json.\n"
     ]
    }
   ],
   "source": [
    "song.save_lyrics()"
   ]
  },
  {
   "cell_type": "markdown",
   "metadata": {},
   "source": [
    "2. Read in the contents of your file.  Print the lyrics of the song (not the entire dictionary!) and use spaCyTextBlob to perform sentiment analysis on the lyrics.  Print the polarity score of the sentiment analysis.  Given that the range of the polarity score is `[-1.0,1.0]` which corresponds to how positive or negative the text in question is, do you think the lyrics have a more positive or negative connotaion?  Answer this question in a comment in your code cell."
   ]
  },
  {
   "cell_type": "code",
   "execution_count": 6,
   "metadata": {},
   "outputs": [],
   "source": [
    "import json\n",
    "f = open('lyrics_bazzi_i.f.l.y..json')"
   ]
  },
  {
   "cell_type": "code",
   "execution_count": 7,
   "metadata": {},
   "outputs": [],
   "source": [
    "data = json.load(f)"
   ]
  },
  {
   "cell_type": "code",
   "execution_count": 8,
   "metadata": {},
   "outputs": [],
   "source": [
    "lyrics = data['lyrics']"
   ]
  },
  {
   "cell_type": "code",
   "execution_count": 9,
   "metadata": {},
   "outputs": [],
   "source": [
    "from textblob import TextBlob"
   ]
  },
  {
   "cell_type": "code",
   "execution_count": 10,
   "metadata": {},
   "outputs": [],
   "source": [
    "blob = TextBlob(lyrics)"
   ]
  },
  {
   "cell_type": "code",
   "execution_count": 11,
   "metadata": {},
   "outputs": [
    {
     "name": "stdout",
     "output_type": "stream",
     "text": [
      "0.31899509803921566\n"
     ]
    }
   ],
   "source": [
    "print(blob.sentiment_assessments.polarity)\n",
    "## I think that for the most part, these lyrics have a positive connotation. The polarity being 0.32 shows that too. "
   ]
  },
  {
   "cell_type": "markdown",
   "metadata": {},
   "source": [
    "3. Write a function that takes an artist, song, and filename, accesses the lyrics.ovh api to get the song lyrics, and writes the results to the specified filename.  Test this function by getting the lyrics to any four songs of your choice and storing them in different files."
   ]
  },
  {
   "cell_type": "code",
   "execution_count": 12,
   "metadata": {},
   "outputs": [],
   "source": [
    "def save_lyrics(artist,song,file):\n",
    "    artist = genius.search_artist(artist, max_songs = 0,include_features=True)\n",
    "    song = artist.song(song)\n",
    "    song.save_lyrics(filename = file )"
   ]
  },
  {
   "cell_type": "code",
   "execution_count": 13,
   "metadata": {},
   "outputs": [
    {
     "name": "stdout",
     "output_type": "stream",
     "text": [
      "Searching for songs by Bazzi...\n",
      "\n",
      "Done. Found 0 songs.\n",
      "Searching for \"Star\" by Bazzi...\n",
      "Done.\n"
     ]
    },
    {
     "name": "stdin",
     "output_type": "stream",
     "text": [
      "BazziStar.json already exists. Overwrite?\n",
      "(y/n):  y\n"
     ]
    },
    {
     "name": "stdout",
     "output_type": "stream",
     "text": [
      "Wrote BazziStar.json.\n"
     ]
    }
   ],
   "source": [
    "save_lyrics(\"Bazzi\",\"Star\",\"BazziStar.json\")"
   ]
  },
  {
   "cell_type": "code",
   "execution_count": 14,
   "metadata": {},
   "outputs": [
    {
     "name": "stdout",
     "output_type": "stream",
     "text": [
      "Searching for songs by Joji...\n",
      "\n",
      "Done. Found 0 songs.\n",
      "Searching for \"Die For You\" by Joji...\n",
      "Done.\n"
     ]
    },
    {
     "name": "stdin",
     "output_type": "stream",
     "text": [
      "JojiDieForYou.json already exists. Overwrite?\n",
      "(y/n):  y\n"
     ]
    },
    {
     "name": "stdout",
     "output_type": "stream",
     "text": [
      "Wrote JojiDieForYou.json.\n"
     ]
    }
   ],
   "source": [
    "save_lyrics(\"Joji\",\"Die For You\",\"JojiDieForYou.json\")"
   ]
  },
  {
   "cell_type": "code",
   "execution_count": 15,
   "metadata": {},
   "outputs": [
    {
     "name": "stdout",
     "output_type": "stream",
     "text": [
      "Searching for songs by Joji...\n",
      "\n",
      "Done. Found 0 songs.\n",
      "Searching for \"Glimpse of Us\" by Joji...\n",
      "Done.\n"
     ]
    },
    {
     "name": "stdin",
     "output_type": "stream",
     "text": [
      "JojiGlimpseOfUs.json already exists. Overwrite?\n",
      "(y/n):  y\n"
     ]
    },
    {
     "name": "stdout",
     "output_type": "stream",
     "text": [
      "Wrote JojiGlimpseOfUs.json.\n"
     ]
    }
   ],
   "source": [
    "save_lyrics(\"Joji\",\"Glimpse of Us\",\"JojiGlimpseOfUs.json\")"
   ]
  },
  {
   "cell_type": "code",
   "execution_count": 16,
   "metadata": {},
   "outputs": [
    {
     "name": "stdout",
     "output_type": "stream",
     "text": [
      "Searching for songs by Yung Gravy...\n",
      "\n",
      "Done. Found 0 songs.\n",
      "Searching for \"Gravy Train\" by Yung Gravy...\n",
      "Done.\n"
     ]
    },
    {
     "name": "stdin",
     "output_type": "stream",
     "text": [
      "YungGravyGravyTrain.json already exists. Overwrite?\n",
      "(y/n):  y\n"
     ]
    },
    {
     "name": "stdout",
     "output_type": "stream",
     "text": [
      "Wrote YungGravyGravyTrain.json.\n"
     ]
    }
   ],
   "source": [
    "save_lyrics(\"Yung Gravy\",\"Gravy Train\",\"YungGravyGravyTrain.json\")"
   ]
  },
  {
   "cell_type": "markdown",
   "metadata": {},
   "source": [
    "4. Write a function that takes the name of a file that contains song lyrics, loads the file, performs sentiment analysis, and returns the polarity score.  Use this function to print the polarity scores (with the name of the song) of the three files you created in question 3.  Does the reported polarity match your understanding of the song's lyrics? Why or why not do you think that might be?  Answer the questions in either a comment in the code cell or a markdown cell under the code cell."
   ]
  },
  {
   "cell_type": "code",
   "execution_count": 17,
   "metadata": {},
   "outputs": [],
   "source": [
    "def LyricPolarity(file):\n",
    "    import json\n",
    "    f = open(file)\n",
    "    song = json.load(f)\n",
    "    lyrics = song['lyrics']\n",
    "    from textblob import TextBlob\n",
    "    blob = TextBlob(lyrics)\n",
    "    print(blob.sentiment_assessments.polarity)"
   ]
  },
  {
   "cell_type": "code",
   "execution_count": 18,
   "metadata": {},
   "outputs": [
    {
     "name": "stdout",
     "output_type": "stream",
     "text": [
      "0.1697222222222222\n"
     ]
    }
   ],
   "source": [
    "LyricPolarity(\"JojiGlimpseofus.json\")"
   ]
  },
  {
   "cell_type": "code",
   "execution_count": 19,
   "metadata": {},
   "outputs": [
    {
     "name": "stdout",
     "output_type": "stream",
     "text": [
      "0.21206140350877192\n"
     ]
    }
   ],
   "source": [
    "LyricPolarity(\"Jojidieforyou.json\")"
   ]
  },
  {
   "cell_type": "code",
   "execution_count": 20,
   "metadata": {},
   "outputs": [
    {
     "name": "stdout",
     "output_type": "stream",
     "text": [
      "0.09257335257335256\n"
     ]
    }
   ],
   "source": [
    "LyricPolarity(\"BazziStar.json\")"
   ]
  },
  {
   "cell_type": "code",
   "execution_count": 21,
   "metadata": {},
   "outputs": [
    {
     "name": "stdout",
     "output_type": "stream",
     "text": [
      "0.2692733990147783\n"
     ]
    }
   ],
   "source": [
    "LyricPolarity(\"Yunggravygravytrain.json\")"
   ]
  },
  {
   "cell_type": "markdown",
   "metadata": {},
   "source": [
    "## For the most part the polarity score does match my understanding of each song. Some of them are sad but still positive at the same time. I figured the last one, Gravy Train, would have a higher score just because it has an upbeat tempo and beat. I realize that for songs I think I assume their polarity based on the beat and not the lyrics, which I should change."
   ]
  }
 ],
 "metadata": {
  "kernelspec": {
   "display_name": "Python 3",
   "language": "python",
   "name": "python3"
  },
  "language_info": {
   "codemirror_mode": {
    "name": "ipython",
    "version": 3
   },
   "file_extension": ".py",
   "mimetype": "text/x-python",
   "name": "python",
   "nbconvert_exporter": "python",
   "pygments_lexer": "ipython3",
   "version": "3.8.5"
  }
 },
 "nbformat": 4,
 "nbformat_minor": 4
}
